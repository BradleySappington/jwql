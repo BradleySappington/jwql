{
 "cells": [
  {
   "cell_type": "markdown",
   "metadata": {},
   "source": [
    "## This notebook contains various information and trial queries of the MAST database API, tailored towards the needs of the JWQL application."
   ]
  },
  {
   "cell_type": "markdown",
   "metadata": {},
   "source": [
    "#### Available `services`"
   ]
  },
  {
   "cell_type": "markdown",
   "metadata": {},
   "source": [
    "- `Mast.Jwst.Filtered.Miri`\n",
    "- `Mast.Jwst.Filtered.Nircam`\n",
    "- `Mast.Jwst.Filtered.Niriss`\n",
    "- `Mast.Jwst.Filtered.Nirspec`\n",
    "- `Mast.Jwst.Filtered.Fgs`"
   ]
  },
  {
   "cell_type": "code",
   "execution_count": 1,
   "metadata": {
    "collapsed": true
   },
   "outputs": [],
   "source": [
    "import glob\n",
    "import os\n",
    "from astropy.io import fits\n",
    "from astroquery.mast import Mast"
   ]
  },
  {
   "cell_type": "markdown",
   "metadata": {},
   "source": [
    "#### A very basic example of how to submit a query"
   ]
  },
  {
   "cell_type": "code",
   "execution_count": 2,
   "metadata": {
    "collapsed": true
   },
   "outputs": [],
   "source": [
    "service = \"Mast.Jwst.Filtered.Miri\"\n",
    "params = {\"columns\":\"*\",\"filters\":[]}\n",
    "response = Mast.service_request_async(service,params)\n",
    "result = response[0].json()"
   ]
  },
  {
   "cell_type": "markdown",
   "metadata": {},
   "source": [
    "#### `response` returns a list of one item of type `requests.models.Response` which can easily be converted to `json`/`dict`"
   ]
  },
  {
   "cell_type": "code",
   "execution_count": 3,
   "metadata": {
    "collapsed": false
   },
   "outputs": [
    {
     "data": {
      "text/plain": [
       "dict"
      ]
     },
     "execution_count": 3,
     "metadata": {},
     "output_type": "execute_result"
    }
   ],
   "source": [
    "type(result)"
   ]
  },
  {
   "cell_type": "code",
   "execution_count": 4,
   "metadata": {
    "collapsed": false
   },
   "outputs": [
    {
     "data": {
      "text/plain": [
       "dict_keys(['status', 'data', 'fields', 'paging', 'msg'])"
      ]
     },
     "execution_count": 4,
     "metadata": {},
     "output_type": "execute_result"
    }
   ],
   "source": [
    "result.keys()"
   ]
  },
  {
   "cell_type": "markdown",
   "metadata": {},
   "source": [
    "#### The `fields` key lists the resulting column names and their data type"
   ]
  },
  {
   "cell_type": "code",
   "execution_count": null,
   "metadata": {
    "collapsed": false
   },
   "outputs": [],
   "source": [
    "result['fields']"
   ]
  },
  {
   "cell_type": "markdown",
   "metadata": {},
   "source": [
    "#### The `data` key contains the values for each row returned from the query"
   ]
  },
  {
   "cell_type": "code",
   "execution_count": null,
   "metadata": {
    "collapsed": false
   },
   "outputs": [],
   "source": [
    "result['data']"
   ]
  },
  {
   "cell_type": "code",
   "execution_count": 7,
   "metadata": {
    "collapsed": false
   },
   "outputs": [
    {
     "data": {
      "text/plain": [
       "495"
      ]
     },
     "execution_count": 7,
     "metadata": {},
     "output_type": "execute_result"
    }
   ],
   "source": [
    "len(result['data'])"
   ]
  },
  {
   "cell_type": "markdown",
   "metadata": {},
   "source": [
    "#### Specific columns can be pulled out by iterating over `data`"
   ]
  },
  {
   "cell_type": "code",
   "execution_count": null,
   "metadata": {
    "collapsed": false
   },
   "outputs": [],
   "source": [
    "filenames = [item['filename'] for item in result['data']]\n",
    "print(filenames)"
   ]
  },
  {
   "cell_type": "code",
   "execution_count": 9,
   "metadata": {
    "collapsed": false
   },
   "outputs": [
    {
     "name": "stdout",
     "output_type": "stream",
     "text": [
      "495\n",
      "495\n"
     ]
    }
   ],
   "source": [
    "print(len(filenames))\n",
    "print(len(set(filenames)))"
   ]
  },
  {
   "cell_type": "markdown",
   "metadata": {},
   "source": [
    "#### The `status` key appears to return the status of the query"
   ]
  },
  {
   "cell_type": "code",
   "execution_count": 10,
   "metadata": {
    "collapsed": false
   },
   "outputs": [
    {
     "data": {
      "text/plain": [
       "'COMPLETE'"
      ]
     },
     "execution_count": 10,
     "metadata": {},
     "output_type": "execute_result"
    }
   ],
   "source": [
    "result['status']"
   ]
  },
  {
   "cell_type": "markdown",
   "metadata": {},
   "source": [
    "#### The `paging` key describes the amount of data returned by the query"
   ]
  },
  {
   "cell_type": "code",
   "execution_count": 11,
   "metadata": {
    "collapsed": false
   },
   "outputs": [
    {
     "data": {
      "text/plain": [
       "{'page': 1,\n",
       " 'pageSize': 50000,\n",
       " 'pagesFiltered': 1,\n",
       " 'rows': 495,\n",
       " 'rowsFiltered': 495,\n",
       " 'rowsTotal': 495}"
      ]
     },
     "execution_count": 11,
     "metadata": {},
     "output_type": "execute_result"
    }
   ],
   "source": [
    "result['paging']"
   ]
  },
  {
   "cell_type": "markdown",
   "metadata": {},
   "source": [
    "#### I'm not sure what the `msg` key stores"
   ]
  },
  {
   "cell_type": "code",
   "execution_count": 12,
   "metadata": {
    "collapsed": false
   },
   "outputs": [
    {
     "data": {
      "text/plain": [
       "''"
      ]
     },
     "execution_count": 12,
     "metadata": {},
     "output_type": "execute_result"
    }
   ],
   "source": [
    "result['msg']"
   ]
  },
  {
   "cell_type": "markdown",
   "metadata": {},
   "source": [
    "#### Testing the services for the other JWST instruments"
   ]
  },
  {
   "cell_type": "code",
   "execution_count": 13,
   "metadata": {
    "collapsed": false
   },
   "outputs": [
    {
     "name": "stdout",
     "output_type": "stream",
     "text": [
      "Mast.Jwst.Filtered.Nircam: 2748 rows\n",
      "Mast.Jwst.Filtered.Nirspec: 878 rows\n",
      "Mast.Jwst.Filtered.Niriss: 387 rows\n",
      "Mast.Jwst.Filtered.Miri: 495 rows\n",
      "Mast.Jwst.Filtered.Fgs: 152 rows\n"
     ]
    }
   ],
   "source": [
    "services = ['Mast.Jwst.Filtered.Nircam', 'Mast.Jwst.Filtered.Nirspec',\n",
    "            'Mast.Jwst.Filtered.Niriss', 'Mast.Jwst.Filtered.Miri', \n",
    "            'Mast.Jwst.Filtered.Fgs']\n",
    "for service in services:\n",
    "    params = {\"columns\":\"*\",\"filters\":[]}\n",
    "    response = Mast.service_request_async(service,params)\n",
    "    result = response[0].json()\n",
    "    print('{}: {} rows'.format(service, len(result['data'])))"
   ]
  },
  {
   "cell_type": "markdown",
   "metadata": {},
   "source": [
    "### Example Query: Find all MIRI data taken between two time intervals"
   ]
  },
  {
   "cell_type": "code",
   "execution_count": 14,
   "metadata": {
    "collapsed": false
   },
   "outputs": [],
   "source": [
    "service = \"Mast.Jwst.Filtered.Miri\"\n",
    "params = {\"columns\":\"filename, expstart\",\"filters\":[\n",
    "                         {\"paramName\":\"expstart\",\n",
    "                          \"values\":[{\"min\":57404.04, \"max\":57404.07}],\n",
    "                         }]}\n",
    "response = Mast.service_request_async(service,params)\n",
    "result = response[0].json()"
   ]
  },
  {
   "cell_type": "code",
   "execution_count": 15,
   "metadata": {
    "collapsed": false
   },
   "outputs": [
    {
     "data": {
      "text/plain": [
       "[{'expstart': 57404.04476711806,\n",
       "  'filename': 'jw80600003001_02101_00001_mirimage_cal.fits'},\n",
       " {'expstart': 57404.04476711806,\n",
       "  'filename': 'jw80600003001_02101_00001_mirimage_i2d.fits'},\n",
       " {'expstart': 57404.05132637732,\n",
       "  'filename': 'jw80600004001_02101_00001_mirimage_cal.fits'},\n",
       " {'expstart': 57404.05132637732,\n",
       "  'filename': 'jw80600004001_02101_00001_mirimage_i2d.fits'},\n",
       " {'expstart': 57404.04108451065,\n",
       "  'filename': 'jw80600001001_02103_00001_mirimage_uncal.fits'},\n",
       " {'expstart': 57404.04476711806,\n",
       "  'filename': 'jw80600003001_02101_00001_mirimage_rate.fits'},\n",
       " {'expstart': 57404.04476711806,\n",
       "  'filename': 'jw80600003001_02101_00001_mirimage_rateints.fits'},\n",
       " {'expstart': 57404.05979692546,\n",
       "  'filename': 'jw80600005001_02101_00001_mirimage_uncal.fits'},\n",
       " {'expstart': 57404.05132637732,\n",
       "  'filename': 'jw80600004001_02101_00001_mirimage_rate.fits'}]"
      ]
     },
     "execution_count": 15,
     "metadata": {},
     "output_type": "execute_result"
    }
   ],
   "source": [
    "result['data']"
   ]
  },
  {
   "cell_type": "markdown",
   "metadata": {},
   "source": [
    "#### Note that this doesn't seem to be possible with `date_obs`"
   ]
  },
  {
   "cell_type": "code",
   "execution_count": 16,
   "metadata": {
    "collapsed": true
   },
   "outputs": [],
   "source": [
    "service = \"Mast.Jwst.Filtered.Miri\"\n",
    "params = {\"columns\":\"filename, date_obs\",\"filters\":[\n",
    "                         {\"paramName\":\"date_obs\",\n",
    "                          \"values\":[{\"min\":'01-17-2016', \"max\":'01-18-2016'}],\n",
    "                         }]}\n",
    "response = Mast.service_request_async(service,params)\n",
    "result = response[0].json()"
   ]
  },
  {
   "cell_type": "code",
   "execution_count": 17,
   "metadata": {
    "collapsed": false
   },
   "outputs": [
    {
     "data": {
      "text/plain": [
       "495"
      ]
     },
     "execution_count": 17,
     "metadata": {},
     "output_type": "execute_result"
    }
   ],
   "source": [
    "len(result['data'])"
   ]
  },
  {
   "cell_type": "code",
   "execution_count": null,
   "metadata": {
    "collapsed": false
   },
   "outputs": [],
   "source": [
    "result['data']"
   ]
  },
  {
   "cell_type": "markdown",
   "metadata": {},
   "source": [
    "### Example Query: What data are currently proprietary?"
   ]
  },
  {
   "cell_type": "code",
   "execution_count": 19,
   "metadata": {
    "collapsed": true
   },
   "outputs": [],
   "source": [
    "# Not implemented"
   ]
  },
  {
   "cell_type": "markdown",
   "metadata": {
    "collapsed": true
   },
   "source": [
    "### More example queries"
   ]
  },
  {
   "cell_type": "code",
   "execution_count": 20,
   "metadata": {
    "collapsed": true
   },
   "outputs": [],
   "source": [
    "# Not implemented"
   ]
  },
  {
   "cell_type": "markdown",
   "metadata": {
    "collapsed": true
   },
   "source": [
    "## Determining which header keywords exist in file headers, but not the MAST database"
   ]
  },
  {
   "cell_type": "code",
   "execution_count": 21,
   "metadata": {
    "collapsed": true
   },
   "outputs": [],
   "source": [
    "test_filename = 'jw00329003001_02101_00001_nrca2_rate.fits' # Note the full path is excluded for security reasons"
   ]
  },
  {
   "cell_type": "code",
   "execution_count": 22,
   "metadata": {
    "collapsed": false
   },
   "outputs": [],
   "source": [
    "# Get set of all header keywords that exist in PRIMARY and SCI extension of files\n",
    "header0_keys_fits = set(list(fits.getheader(test_filename, 0).keys()))\n",
    "header0_keys_fits = set([item.lower().replace('-', '_') for item in header0_keys_fits])\n",
    "header1_keys_fits = set(list(fits.getheader(test_filename, 1).keys()))\n",
    "header1_keys_fits = set([item.lower().replace('-', '_') for item in header1_keys_fits])\n",
    "header_keys_fits = header0_keys_fits | header1_keys_fits"
   ]
  },
  {
   "cell_type": "code",
   "execution_count": 23,
   "metadata": {
    "collapsed": false
   },
   "outputs": [],
   "source": [
    "# Get set of all keywords available in the MAST API\n",
    "service = \"Mast.Jwst.Filtered.Nircam\"\n",
    "params = {\"columns\":\"*\",\"filters\":[{\"paramName\":\"filename\",\n",
    "                          \"values\":[os.path.basename(test_filename)]}]}\n",
    "response = Mast.service_request_async(service,params)\n",
    "result = response[0].json()\n",
    "header_keys_db = set(list(result['data'][0].keys()))"
   ]
  },
  {
   "cell_type": "code",
   "execution_count": 24,
   "metadata": {
    "collapsed": false
   },
   "outputs": [
    {
     "data": {
      "text/plain": [
       "{'ArchiveFileID',\n",
       " 'FileSetId',\n",
       " 'FileTypeID',\n",
       " 'asnpool',\n",
       " 'asntable',\n",
       " 'bkglevel',\n",
       " 'bkgsub',\n",
       " 'checksum',\n",
       " 'dataURI',\n",
       " 'fileSetName',\n",
       " 'fileSize',\n",
       " 'ingestCompletionDate',\n",
       " 'ingestStartDate',\n",
       " 'isItar',\n",
       " 'isRestricted',\n",
       " 'isStale',\n",
       " 'nwfsest',\n",
       " 'productLevel',\n",
       " 'psfref',\n",
       " 'publicReleaseDate',\n",
       " 'pwfseet',\n",
       " 'selfref',\n",
       " 'srctype'}"
      ]
     },
     "execution_count": 24,
     "metadata": {},
     "output_type": "execute_result"
    }
   ],
   "source": [
    "# Keywords that are in the MAST API but not the FITS headers\n",
    "header_keys_db - header_keys_fits"
   ]
  },
  {
   "cell_type": "code",
   "execution_count": 25,
   "metadata": {
    "collapsed": false
   },
   "outputs": [
    {
     "data": {
      "text/plain": [
       "{'',\n",
       " 'bitpix',\n",
       " 'bunit',\n",
       " 'cal_vcs',\n",
       " 'cal_ver',\n",
       " 'cdelt1',\n",
       " 'cdelt2',\n",
       " 'comment',\n",
       " 'crds_ctx',\n",
       " 'crds_ver',\n",
       " 'crpix1',\n",
       " 'crpix2',\n",
       " 'crval1',\n",
       " 'crval2',\n",
       " 'ctype1',\n",
       " 'ctype2',\n",
       " 'cunit1',\n",
       " 'cunit2',\n",
       " 'datamodl',\n",
       " 'date_end',\n",
       " 'dec_ref',\n",
       " 'dec_v1',\n",
       " 'extend',\n",
       " 'extname',\n",
       " 'extver',\n",
       " 'gcount',\n",
       " 'naxis',\n",
       " 'naxis1',\n",
       " 'naxis2',\n",
       " 'pa_aper',\n",
       " 'pa_v3',\n",
       " 'pc1_1',\n",
       " 'pc1_2',\n",
       " 'pc2_1',\n",
       " 'pc2_2',\n",
       " 'pcount',\n",
       " 'r_dark',\n",
       " 'r_gain',\n",
       " 'r_linear',\n",
       " 'r_mask',\n",
       " 'r_persat',\n",
       " 'r_readno',\n",
       " 'r_satura',\n",
       " 'r_superb',\n",
       " 'r_trpden',\n",
       " 'r_trppar',\n",
       " 'ra_ref',\n",
       " 'ra_v1',\n",
       " 'radesys',\n",
       " 'roll_ref',\n",
       " 's_dark',\n",
       " 's_dqinit',\n",
       " 's_ganscl',\n",
       " 's_grpscl',\n",
       " 's_jump',\n",
       " 's_linear',\n",
       " 's_persis',\n",
       " 's_ramp',\n",
       " 's_refpix',\n",
       " 's_satura',\n",
       " 's_superb',\n",
       " 'simple',\n",
       " 'time_end',\n",
       " 'time_obs',\n",
       " 'v2_ref',\n",
       " 'v3_ref',\n",
       " 'v3i_yang',\n",
       " 'va_scale',\n",
       " 'vparity',\n",
       " 'wcsaxes',\n",
       " 'xtension'}"
      ]
     },
     "execution_count": 25,
     "metadata": {},
     "output_type": "execute_result"
    }
   ],
   "source": [
    "# Keywords that are in the FITS headers but not the MAST API\n",
    "header_keys_fits - header_keys_db"
   ]
  },
  {
   "cell_type": "code",
   "execution_count": null,
   "metadata": {
    "collapsed": true
   },
   "outputs": [],
   "source": []
  }
 ],
 "metadata": {
  "anaconda-cloud": {},
  "kernelspec": {
   "display_name": "Python [default]",
   "language": "python",
   "name": "python3"
  },
  "language_info": {
   "codemirror_mode": {
    "name": "ipython",
    "version": 3
   },
   "file_extension": ".py",
   "mimetype": "text/x-python",
   "name": "python",
   "nbconvert_exporter": "python",
   "pygments_lexer": "ipython3",
   "version": "3.5.5"
  }
 },
 "nbformat": 4,
 "nbformat_minor": 1
}
